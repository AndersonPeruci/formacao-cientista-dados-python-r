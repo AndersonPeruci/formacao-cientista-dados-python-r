{
 "cells": [
  {
   "cell_type": "code",
   "execution_count": 2,
   "metadata": {},
   "outputs": [],
   "source": [
    "def calcula_frete(peso):\n",
    "    if peso and peso > 0:\n",
    "        if peso <= 10:\n",
    "            return 50.0\n",
    "        elif peso > 10 and peso <= 20:\n",
    "            return 80.0\n",
    "        else:\n",
    "            return 'Transporte negado'\n",
    "    else:\n",
    "        return 'Peso inválido'"
   ]
  },
  {
   "cell_type": "code",
   "execution_count": 3,
   "metadata": {},
   "outputs": [
    {
     "name": "stdout",
     "output_type": "stream",
     "text": [
      "Peso inválido\n",
      "Transporte negado\n",
      "50.0\n",
      "80.0\n"
     ]
    }
   ],
   "source": [
    "print(calcula_frete(-1))\n",
    "print(calcula_frete(40))\n",
    "print(calcula_frete(9))\n",
    "print(calcula_frete(16))"
   ]
  }
 ],
 "metadata": {
  "kernelspec": {
   "display_name": "Python 3",
   "language": "python",
   "name": "python3"
  },
  "language_info": {
   "codemirror_mode": {
    "name": "ipython",
    "version": 3
   },
   "file_extension": ".py",
   "mimetype": "text/x-python",
   "name": "python",
   "nbconvert_exporter": "python",
   "pygments_lexer": "ipython3",
   "version": "3.8.5"
  }
 },
 "nbformat": 4,
 "nbformat_minor": 4
}
