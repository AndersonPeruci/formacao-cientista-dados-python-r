{
 "cells": [
  {
   "cell_type": "code",
   "execution_count": 7,
   "metadata": {},
   "outputs": [
    {
     "name": "stdout",
     "output_type": "stream",
     "text": [
      "200\n",
      "987\n",
      "1\n",
      "1008\n",
      "2\n"
     ]
    }
   ],
   "source": [
    "# Funções internas\n",
    "print(abs(-200))  # Retorna o valor absoluto\n",
    "lst = [1,2,3,4,5,6,987]\n",
    "print(max(lst))\n",
    "print(min(lst))\n",
    "print(sum(lst))\n",
    "print(round(2.345677))"
   ]
  },
  {
   "cell_type": "code",
   "execution_count": 14,
   "metadata": {},
   "outputs": [
    {
     "name": "stdout",
     "output_type": "stream",
     "text": [
      "Média:  144\n",
      "Mediana:  4\n",
      "Moda:  1\n"
     ]
    }
   ],
   "source": [
    "# Estatística\n",
    "from statistics import mean, median, mode\n",
    "print('Média: ', mean(lst))\n",
    "print('Mediana: ', median(lst))\n",
    "print('Moda: ', mode(lst))\n"
   ]
  },
  {
   "cell_type": "code",
   "execution_count": 15,
   "metadata": {},
   "outputs": [
    {
     "name": "stdout",
     "output_type": "stream",
     "text": [
      "Desvio padrão:  371.73198230266206\n"
     ]
    }
   ],
   "source": [
    "# Desvio padrão da amostra\n",
    "from statistics import stdev\n",
    "print('Desvio padrão: ', stdev(lst))"
   ]
  },
  {
   "cell_type": "code",
   "execution_count": 17,
   "metadata": {},
   "outputs": [
    {
     "name": "stdout",
     "output_type": "stream",
     "text": [
      "Variância:  138184.66666666666\n"
     ]
    }
   ],
   "source": [
    "# Variância da amostra\n",
    "from statistics import variance\n",
    "print('Variância: ', variance(lst))"
   ]
  },
  {
   "cell_type": "code",
   "execution_count": 19,
   "metadata": {},
   "outputs": [
    {
     "name": "stdout",
     "output_type": "stream",
     "text": [
      "<class 'numpy.ndarray'>\n",
      "[[0.9165861  0.971031   0.15975681]\n",
      " [0.77215849 0.38775276 0.99928255]\n",
      " [0.35584736 0.13032933 0.02497122]]\n"
     ]
    }
   ],
   "source": [
    "from numpy import random\n",
    "a = random.random((3,3))\n",
    "print(type(a))\n",
    "print(a)"
   ]
  }
 ],
 "metadata": {
  "kernelspec": {
   "display_name": "Python 3",
   "language": "python",
   "name": "python3"
  },
  "language_info": {
   "codemirror_mode": {
    "name": "ipython",
    "version": 3
   },
   "file_extension": ".py",
   "mimetype": "text/x-python",
   "name": "python",
   "nbconvert_exporter": "python",
   "pygments_lexer": "ipython3",
   "version": "3.8.5"
  }
 },
 "nbformat": 4,
 "nbformat_minor": 4
}
