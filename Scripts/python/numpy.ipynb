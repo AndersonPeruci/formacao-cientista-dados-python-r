{
 "cells": [
  {
   "cell_type": "code",
   "execution_count": 2,
   "metadata": {},
   "outputs": [],
   "source": [
    "import numpy as np"
   ]
  },
  {
   "cell_type": "code",
   "execution_count": 3,
   "metadata": {},
   "outputs": [
    {
     "name": "stdout",
     "output_type": "stream",
     "text": [
      "[12 34 26 18 10]\n",
      "<class 'numpy.ndarray'>\n"
     ]
    }
   ],
   "source": [
    "# Cria uma matriz unidimensional\n",
    "mt = np.array([12,34,26,18,10])\n",
    "print(mt)\n",
    "print(type(mt))"
   ]
  },
  {
   "cell_type": "code",
   "execution_count": 5,
   "metadata": {},
   "outputs": [
    {
     "name": "stdout",
     "output_type": "stream",
     "text": [
      "[1. 2. 3.]\n",
      "<class 'numpy.ndarray'>\n",
      "[1 2 3]\n",
      "<class 'numpy.ndarray'>\n"
     ]
    }
   ],
   "source": [
    "# Cria o array com um tipo específico\n",
    "# Cria o array como float de 64 bits\n",
    "mtfloat = np.array([1, 2, 3], dtype = np.float64)\n",
    "print(mtfloat)\n",
    "print(type(mtfloat))\n",
    "\n",
    "mtint = np.array([1, 2, 3], dtype = np.int32)\n",
    "print(mtint)\n",
    "print(type(mtint))\n"
   ]
  },
  {
   "cell_type": "code",
   "execution_count": 7,
   "metadata": {},
   "outputs": [
    {
     "name": "stdout",
     "output_type": "stream",
     "text": [
      "[ 1.5      3.6     -5.1      9.42     4.99999]\n",
      "[ 1  3 -5  9  4]\n"
     ]
    }
   ],
   "source": [
    "# Mudar o tipo do array\n",
    "# Podemos transformar tipos de dados de arrays\n",
    "\n",
    "mtnew = np.array([1.5, 3.6, -5.1, 9.42, 4.99999])\n",
    "print(mtnew)\n",
    "\n",
    "# Quando transformamos de float para int os valores truncados\n",
    "mtnewint = mtnew.astype(np.int32)\n",
    "print(mtnewint)"
   ]
  },
  {
   "cell_type": "code",
   "execution_count": 8,
   "metadata": {},
   "outputs": [
    {
     "name": "stdout",
     "output_type": "stream",
     "text": [
      "[1 2 3 4 5]\n",
      "[1. 2. 3. 4. 5.]\n"
     ]
    }
   ],
   "source": [
    "# Podemos converter um array do tipo inteiro para Float\n",
    "\n",
    "mt5 = np.array([1,2,3,4,5])\n",
    "print(mt5)\n",
    "mt6 = mt5.astype(float)\n",
    "print(mt6)"
   ]
  },
  {
   "cell_type": "code",
   "execution_count": 9,
   "metadata": {},
   "outputs": [
    {
     "name": "stdout",
     "output_type": "stream",
     "text": [
      "[[ 7  2  3]\n",
      " [12 27  4]\n",
      " [ 5 34 23]]\n"
     ]
    }
   ],
   "source": [
    "# Mais de uma dimensão\n",
    "# Cria uma matriz bidimensional\n",
    "mt7 = np.array([[7,2,3], [12,27,4], [5,34,23]])\n",
    "print(mt7)\n"
   ]
  },
  {
   "cell_type": "code",
   "execution_count": 11,
   "metadata": {},
   "outputs": [
    {
     "name": "stdout",
     "output_type": "stream",
     "text": [
      "[[         0 1072693248]\n",
      " [         0 1073741824]\n",
      " [         0 1074266112]]\n",
      "                   .                     \n",
      "[[0. 0. 0.]\n",
      " [0. 0. 0.]\n",
      " [0. 0. 0.]\n",
      " [0. 0. 0.]]\n",
      "                   .                     \n",
      "[[1. 1. 1. 1. 1. 1. 1.]\n",
      " [1. 1. 1. 1. 1. 1. 1.]\n",
      " [1. 1. 1. 1. 1. 1. 1.]\n",
      " [1. 1. 1. 1. 1. 1. 1.]\n",
      " [1. 1. 1. 1. 1. 1. 1.]]\n",
      "                   .                     \n",
      "[[1. 0. 0. 0. 0.]\n",
      " [0. 1. 0. 0. 0.]\n",
      " [0. 0. 1. 0. 0.]\n",
      " [0. 0. 0. 1. 0.]\n",
      " [0. 0. 0. 0. 1.]]\n"
     ]
    }
   ],
   "source": [
    "# Criar arrays vazios tipificados\n",
    "# Empty significa que não são inicializados, não que são vazios\n",
    "vazios = np.empty([3,2], dtype = int)\n",
    "print(vazios)\n",
    "print('                   .                     ')\n",
    "\n",
    "# Cria uma matriz 4x3 (l x C) com valores zero\n",
    "zeros = np.zeros([4,3])\n",
    "print(zeros)\n",
    "print('                   .                     ')\n",
    "\n",
    "# Com valores igual a um\n",
    "um = np.ones([5,7])\n",
    "print(um)\n",
    "print('                   .                     ')\n",
    "\n",
    "# Cria matriz quadrada com diagonal principal com valores 1 e os outros valores zero\n",
    "diagonal = np.eye(5)\n",
    "print(diagonal)"
   ]
  },
  {
   "cell_type": "code",
   "execution_count": 14,
   "metadata": {},
   "outputs": [
    {
     "name": "stdout",
     "output_type": "stream",
     "text": [
      "[0.26010329 0.42357138 0.34388272 0.18984311 0.30195189]\n",
      "                   .                     \n",
      "[ 1.28266416  0.76130124 -1.19868858  0.71000637  0.98247125]\n",
      "                   .                     \n",
      "[[7.60566678 5.73167816 9.75902389 5.00458474]\n",
      " [5.93434717 7.69866421 1.10075409 1.53303257]\n",
      " [0.24272125 7.58059826 1.93707877 4.57779981]]\n"
     ]
    }
   ],
   "source": [
    "# Valores aleatórios entre zero e um\n",
    "ale = np.random.random((5))\n",
    "print(ale)\n",
    "print('                   .                     ')\n",
    "\n",
    "# Valores aleatórios destr. normal contendo negativos\n",
    "ale2 = np.random.randn((5))\n",
    "print(ale2)\n",
    "print('                   .                     ')\n",
    "\n",
    "# Valores aleatórios 3x4\n",
    "ale3 = (10*np.random.random((3,4)))\n",
    "print(ale3)\n"
   ]
  },
  {
   "cell_type": "code",
   "execution_count": 19,
   "metadata": {},
   "outputs": [
    {
     "name": "stdout",
     "output_type": "stream",
     "text": [
      "[0.95600171 0.20768181 0.82844489]\n",
      "[[5 1 8 5]\n",
      " [1 1 4 6]\n",
      " [4 8 0 4]]\n"
     ]
    }
   ],
   "source": [
    "# Outra forma de gerar aleatórios\n",
    "# Uso de semente\n",
    "gnr = np.random.default_rng(10)\n",
    "ale5 = gnr.random(3)\n",
    "print(ale5)\n",
    "\n",
    "# Gerar inteiros\n",
    "ale6 = gnr.integers(10, size=(3,4))\n",
    "print(ale6)"
   ]
  },
  {
   "cell_type": "code",
   "execution_count": 20,
   "metadata": {},
   "outputs": [
    {
     "name": "stdout",
     "output_type": "stream",
     "text": [
      "[  1   2   3   4   5   6   7  77 333]\n"
     ]
    }
   ],
   "source": [
    "# Unique remove repetições\n",
    "j = np.array([1,2,3,3,2,3,1,3,4,5,6,7,7,77,6,5,333,1,1,3])\n",
    "j = np.unique(j)\n",
    "print(j)"
   ]
  },
  {
   "cell_type": "code",
   "execution_count": 26,
   "metadata": {},
   "outputs": [
    {
     "name": "stdout",
     "output_type": "stream",
     "text": [
      "[[ 1  2  3]\n",
      " [ 2  3  5]\n",
      " [45  6  7]]\n",
      "3\n",
      "(3, 3)\n"
     ]
    }
   ],
   "source": [
    "# Funções específicas\n",
    "# Cria matriz bidimensional k\n",
    "k = np.array([[1,2,3], [2,3,5], [45,6,7]])\n",
    "print(k)\n",
    "\n",
    "# Mostra um elemento específico da matriz k\n",
    "print(k[0][2])\n",
    "\n",
    "# Mostra o tamanho das dimensões da matriz k\n",
    "print(k.shape)"
   ]
  },
  {
   "cell_type": "code",
   "execution_count": 32,
   "metadata": {},
   "outputs": [
    {
     "name": "stdout",
     "output_type": "stream",
     "text": [
      "45\n",
      "1\n",
      "74\n",
      "8.222222222222221\n",
      "13.13838970158129\n"
     ]
    }
   ],
   "source": [
    "# Funções matemáticas\n",
    "# Mostra o maior valor da matriz k\n",
    "print(k.max())\n",
    "\n",
    "# Mostra o menor valor da matriz k\n",
    "print(k.min())\n",
    "\n",
    "# Mostra a soma dos valores da matriz k\n",
    "print(k.sum())\n",
    "\n",
    "# Mostra o valor da média dos valores da matriz k\n",
    "print(k.mean())\n",
    " \n",
    "# mostra o valor dos desvio padrão (standard deviation) dos valores da matriz k\n",
    "print(k.std())"
   ]
  },
  {
   "cell_type": "code",
   "execution_count": 36,
   "metadata": {},
   "outputs": [
    {
     "name": "stdout",
     "output_type": "stream",
     "text": [
      "[1. 2. 3. 4. 5. 6.]\n",
      "[2.71828183e+00 5.45981500e+01 8.10308393e+03 8.88611052e+06\n",
      " 7.20048993e+10 4.31123155e+15]\n"
     ]
    }
   ],
   "source": [
    "# Funções universais, aplicadas a todos os elementos\n",
    "# Mostra o valor da raiz quadrada de todos os elementos\n",
    "k1 = np.array([1,4,9,16,25,36])\n",
    "print(np.sqrt(k1))\n",
    "\n",
    "# Mostra o valor exponencial de todos os elementos\n",
    "print(np.exp(k1))"
   ]
  },
  {
   "cell_type": "code",
   "execution_count": 37,
   "metadata": {},
   "outputs": [
    {
     "name": "stdout",
     "output_type": "stream",
     "text": [
      "2\n",
      "[1 2]\n",
      "[2 3 4 5 6]\n",
      "[4 5 6]\n"
     ]
    }
   ],
   "source": [
    "# Extração de elementos\n",
    "m = np.array([1,2,3,4,5,6])\n",
    "\n",
    "# Mostra o elemento da posição 2\n",
    "print(m[1])\n",
    "\n",
    "# Mostra o array criado a partir da posição 0, dois elementos\n",
    "print(m[0:2])\n",
    "\n",
    "# Mostra o array criado a partir da 2a posição até todo o restante do array\n",
    "print(m[1:])\n",
    "\n",
    "# Mostra o array criado a partir da antepenúltima posição até o fim\n",
    "print(m[-3:])"
   ]
  },
  {
   "cell_type": "code",
   "execution_count": 39,
   "metadata": {},
   "outputs": [
    {
     "name": "stdout",
     "output_type": "stream",
     "text": [
      "[[4 5]\n",
      " [6 1]\n",
      " [7 4]]\n",
      "[4 5]\n",
      "[6 1]\n",
      "[7 4]\n",
      "[4 6 7]\n",
      "[5 1 4]\n"
     ]
    }
   ],
   "source": [
    "# Extração de linha e colunas\n",
    "l = np.array([[4,5], [6,1], [7,4]])\n",
    "print(l)\n",
    "\n",
    "# Primeira linha, todas as colunas\n",
    "l_linha_1 = l[0, :]\n",
    "print(l_linha_1)\n",
    "\n",
    "# Segunda linha\n",
    "l_linha_2 = l[1, :]\n",
    "print(l_linha_2)\n",
    "\n",
    "# Terceira linha\n",
    "l_linha_3 = l[2, :]\n",
    "print(l_linha_3)\n",
    "\n",
    "# Todas as linhas, primeira coluna\n",
    "l_coluna_1 = l[:, 0]\n",
    "print(l_coluna_1)\n",
    "\n",
    "# Todas as linhas, segunda coluna\n",
    "l_coluna_2 = l[:, 1]\n",
    "print(l_coluna_2)"
   ]
  },
  {
   "cell_type": "code",
   "execution_count": 11,
   "metadata": {},
   "outputs": [
    {
     "name": "stdout",
     "output_type": "stream",
     "text": [
      "[[2 3]\n",
      " [4 5]]\n",
      "[[1 2]\n",
      " [3 4]]\n",
      "[[3 3]\n",
      " [5 5]\n",
      " [7 7]]\n",
      "[[ 2  2]\n",
      " [ 6  4]\n",
      " [10  6]]\n"
     ]
    }
   ],
   "source": [
    "# Adição e multiplicação de matrizes\n",
    "n = np.array([[1,2], [3,4]])\n",
    "o = np.array([[1,1], [1,1]])\n",
    "res1 = n + o\n",
    "print(res1)\n",
    "\n",
    "res2 = n * o\n",
    "print(res2)\n",
    "\n",
    "p = np.array([[1,2], [3,4], [5,6]])\n",
    "q = np.array([2,1])\n",
    "print(p + q)\n",
    "print(p * q)"
   ]
  },
  {
   "cell_type": "code",
   "execution_count": 13,
   "metadata": {},
   "outputs": [
    {
     "name": "stdout",
     "output_type": "stream",
     "text": [
      "[[ 0  1  2  3  4]\n",
      " [ 5  6  7  8  9]\n",
      " [10 11 12 13 14]]\n",
      "[[ 0  5 10]\n",
      " [ 1  6 11]\n",
      " [ 2  7 12]\n",
      " [ 3  8 13]\n",
      " [ 4  9 14]]\n"
     ]
    }
   ],
   "source": [
    "# Transposição, rearranja um conjunto de 15 elementos de 0 a 14\n",
    "# e 3 linhas e 5 colunas\n",
    "f = np.arange(15).reshape((3,5))\n",
    "\n",
    "# Mostra as matrizes transpostas entre linha e coluna\n",
    "print(f)\n",
    "\n",
    "s = f.T\n",
    "print(s)"
   ]
  },
  {
   "cell_type": "code",
   "execution_count": 14,
   "metadata": {},
   "outputs": [
    {
     "name": "stdout",
     "output_type": "stream",
     "text": [
      "[[ 0  1  2  3  4]\n",
      " [ 5  6  7  8  9]\n",
      " [10 11 12 13 14]]\n",
      "[[ 0  5 10]\n",
      " [ 1  6 11]\n",
      " [ 2  7 12]\n",
      " [ 3  8 13]\n",
      " [ 4  9 14]]\n"
     ]
    }
   ],
   "source": [
    "# Outra forma de fazer a transposição\n",
    "r = np.arange(15).reshape((3,5))\n",
    "print(r)\n",
    "\n",
    "# Rearranja um conjunto de 15 elementos\n",
    "# Mostra as matrizes transpostas entre linha e coluna\n",
    "s = r.transpose((1,0))\n",
    "print(s)"
   ]
  },
  {
   "cell_type": "code",
   "execution_count": 16,
   "metadata": {},
   "outputs": [
    {
     "name": "stdout",
     "output_type": "stream",
     "text": [
      "[[ 0.05774138  0.38763075  2.25327842 -0.74881149]\n",
      " [ 0.65735267  0.9951499  -0.22661952 -0.23477851]\n",
      " [-0.77636901 -1.83219125 -0.13588669 -1.03591235]\n",
      " [ 0.09247224 -0.71292825 -1.39228655 -0.56911592]]\n",
      "[[ True  True  True False]\n",
      " [ True  True False False]\n",
      " [False False False False]\n",
      " [ True False False False]]\n",
      "[[ 1  1  1 -1]\n",
      " [ 1  1 -1 -1]\n",
      " [-1 -1 -1 -1]\n",
      " [ 1 -1 -1 -1]]\n"
     ]
    }
   ],
   "source": [
    "# Expressões lógicas\n",
    "# Usando where\n",
    "# Criando matriz com valores aleatórios positivos e negativos\n",
    "v = np.random.randn(4,4)\n",
    "print(v)\n",
    "\n",
    "# Criando matriz com valores booleanos baseados no array v\n",
    "x = (v > 0)\n",
    "print(x)\n",
    "\n",
    "# Criando matriz com valores -1 e 1 baseado nos valores do array x\n",
    "z = np.where(x > 0, 1, -1)\n",
    "print(z)\n"
   ]
  }
 ],
 "metadata": {
  "kernelspec": {
   "display_name": "Python 3",
   "language": "python",
   "name": "python3"
  },
  "language_info": {
   "codemirror_mode": {
    "name": "ipython",
    "version": 3
   },
   "file_extension": ".py",
   "mimetype": "text/x-python",
   "name": "python",
   "nbconvert_exporter": "python",
   "pygments_lexer": "ipython3",
   "version": "3.8.5"
  }
 },
 "nbformat": 4,
 "nbformat_minor": 4
}
